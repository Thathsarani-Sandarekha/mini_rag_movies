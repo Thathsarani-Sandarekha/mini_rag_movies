{
 "cells": [
  {
   "cell_type": "code",
   "execution_count": 1,
   "metadata": {},
   "outputs": [],
   "source": [
    "import pandas as pd"
   ]
  },
  {
   "cell_type": "code",
   "execution_count": 2,
   "metadata": {},
   "outputs": [],
   "source": [
    "# Load full dataset \n",
    "origin_df = pd.read_csv(\"data/wiki_movie_plots_deduped.csv\") "
   ]
  },
  {
   "cell_type": "code",
   "execution_count": 3,
   "metadata": {},
   "outputs": [
    {
     "name": "stdout",
     "output_type": "stream",
     "text": [
      "<class 'pandas.core.frame.DataFrame'>\n",
      "RangeIndex: 34886 entries, 0 to 34885\n",
      "Data columns (total 8 columns):\n",
      " #   Column            Non-Null Count  Dtype \n",
      "---  ------            --------------  ----- \n",
      " 0   Release Year      34886 non-null  int64 \n",
      " 1   Title             34886 non-null  object\n",
      " 2   Origin/Ethnicity  34886 non-null  object\n",
      " 3   Director          34886 non-null  object\n",
      " 4   Cast              33464 non-null  object\n",
      " 5   Genre             34886 non-null  object\n",
      " 6   Wiki Page         34886 non-null  object\n",
      " 7   Plot              34886 non-null  object\n",
      "dtypes: int64(1), object(7)\n",
      "memory usage: 2.1+ MB\n"
     ]
    }
   ],
   "source": [
    "origin_df.info()"
   ]
  },
  {
   "cell_type": "code",
   "execution_count": 4,
   "metadata": {},
   "outputs": [
    {
     "name": "stdout",
     "output_type": "stream",
     "text": [
      "Missing 'Plot' values: 0\n"
     ]
    }
   ],
   "source": [
    "# Missing values\n",
    "missing_plots = origin_df[\"Plot\"].isna().sum()\n",
    "print(f\"Missing 'Plot' values: {missing_plots}\")"
   ]
  },
  {
   "cell_type": "code",
   "execution_count": 5,
   "metadata": {},
   "outputs": [
    {
     "name": "stdout",
     "output_type": "stream",
     "text": [
      "Duplicate titles: 2454\n"
     ]
    }
   ],
   "source": [
    "# Duplicates\n",
    "duplicate_titles = origin_df.duplicated(subset=\"Title\").sum()\n",
    "print(f\"Duplicate titles: {duplicate_titles}\")"
   ]
  },
  {
   "cell_type": "code",
   "execution_count": 6,
   "metadata": {},
   "outputs": [
    {
     "name": "stdout",
     "output_type": "stream",
     "text": [
      "Found 4525 duplicate records (by Title):\n",
      "\n",
      "       Release Year        Title Origin/Ethnicity                Director  \\\n",
      "17813          2009        $9.99       Australian         Tatia Rosenthal   \n",
      "17796          2008        $9.99       Australian         Tatia Rosenthal   \n",
      "34228          2014           10          Russian                 Unknown   \n",
      "9556           1979           10         American           Blake Edwards   \n",
      "17168          2017  100 Streets         American            Jim O'Hanlon   \n",
      "...             ...          ...              ...                     ...   \n",
      "24272          1940      Zindagi        Bollywood             P. C. Barua   \n",
      "24586          1964      Zindagi        Bollywood                 Unknown   \n",
      "24989          1976      Zindagi        Bollywood                 Unknown   \n",
      "17177          2017         iBoy         American            Adam Randall   \n",
      "21657          2017         iBoy          British  Director: Adam Randall   \n",
      "\n",
      "                                                    Cast  \\\n",
      "17813  Geoffrey Rush\\r\\nJoel Edgerton\\r\\nAnthony LaPa...   \n",
      "17796       Geoffrey Rush, Joel Edgerton, Samuel Johnson   \n",
      "34228                                    The Adventurers   \n",
      "9556   Dudley Moore, Julie Andrews, Bo Derek, Robert ...   \n",
      "17168  Jim O'Hanlon (director); Leon F. Butler (scree...   \n",
      "...                                                  ...   \n",
      "24272  K. L. Saigal, Jamuna, Pahari Sanyal, Sitara De...   \n",
      "24586         Vyjayanthimala, Rajendra Kumar, Raaj Kumar   \n",
      "24989  Sanjeev Kumar, Vinod Mehra, Mala Sinha, Moushu...   \n",
      "17177  Adam Randall (director), Joe Barton (screenpla...   \n",
      "21657  Director: Adam Randall\\r\\nCast: Bill Milner, M...   \n",
      "\n",
      "                       Genre  \\\n",
      "17813        animation drama   \n",
      "17796              animation   \n",
      "34228                unknown   \n",
      "9556                 unknown   \n",
      "17168                  drama   \n",
      "...                      ...   \n",
      "24272  romantic social drama   \n",
      "24586                unknown   \n",
      "24989                unknown   \n",
      "17177          action, crime   \n",
      "21657                unknown   \n",
      "\n",
      "                                               Wiki Page  \\\n",
      "17813                https://en.wikipedia.org/wiki/$9.99   \n",
      "17796                https://en.wikipedia.org/wiki/$9.99   \n",
      "34228  https://en.wikipedia.org/wiki/The_Adventurers_...   \n",
      "9556             https://en.wikipedia.org/wiki/10_(film)   \n",
      "17168          https://en.wikipedia.org/wiki/100_Streets   \n",
      "...                                                  ...   \n",
      "24272  https://en.wikipedia.org/wiki/Zindagi_(1940_film)   \n",
      "24586  https://en.wikipedia.org/wiki/Zindagi_(1964_film)   \n",
      "24989  https://en.wikipedia.org/wiki/Zindagi_(1976_film)   \n",
      "17177                 https://en.wikipedia.org/wiki/IBoy   \n",
      "21657                 https://en.wikipedia.org/wiki/IBoy   \n",
      "\n",
      "                                                    Plot  \n",
      "17813  The film mainly focuses on 28-year-old Dave Pe...  \n",
      "17796  The film mainly focuses on 28-year-old Dave Pe...  \n",
      "34228  Katya and Andrey arrive in Malta on the eve of...  \n",
      "9556   During a surprise 42nd birthday party for weal...  \n",
      "17168  The film centers on three characters who have ...  \n",
      "...                                                  ...  \n",
      "24272  Ratan, an unemployed graduate, who works as a ...  \n",
      "24586  Beena works as a stage actress and lives a poo...  \n",
      "24989  Raghu Shukla (Sanjeev Kumar) lives with his wi...  \n",
      "17177  Living in a gang ridden part of London, teenag...  \n",
      "21657  Living in a gang ridden part of London, teenag...  \n",
      "\n",
      "[4525 rows x 8 columns]\n"
     ]
    }
   ],
   "source": [
    "duplicates = origin_df[origin_df.duplicated(subset=\"Title\", keep=False)]\n",
    "\n",
    "if len(duplicates) > 0:\n",
    "    print(f\"Found {len(duplicates)} duplicate records (by Title):\\n\")\n",
    "    print(duplicates.sort_values(\"Title\"))\n",
    "else:\n",
    "    print(\"No duplicate titles found.\")"
   ]
  },
  {
   "cell_type": "code",
   "execution_count": 7,
   "metadata": {},
   "outputs": [],
   "source": [
    "df_no_dupes = origin_df.drop_duplicates(subset=\"Title\", keep=\"first\")"
   ]
  },
  {
   "cell_type": "code",
   "execution_count": 8,
   "metadata": {},
   "outputs": [
    {
     "name": "stdout",
     "output_type": "stream",
     "text": [
      "Rows with leading/trailing whitespace: 438\n"
     ]
    },
    {
     "name": "stderr",
     "output_type": "stream",
     "text": [
      "/var/folders/tg/dx7m5m757yqcv5xfhs9tgyc00000gn/T/ipykernel_1174/2251268935.py:2: SettingWithCopyWarning: \n",
      "A value is trying to be set on a copy of a slice from a DataFrame.\n",
      "Try using .loc[row_indexer,col_indexer] = value instead\n",
      "\n",
      "See the caveats in the documentation: https://pandas.pydata.org/pandas-docs/stable/user_guide/indexing.html#returning-a-view-versus-a-copy\n",
      "  df_no_dupes[\"Title_stripped\"] = df_no_dupes[\"Title\"].astype(str).str.strip()\n",
      "/var/folders/tg/dx7m5m757yqcv5xfhs9tgyc00000gn/T/ipykernel_1174/2251268935.py:3: SettingWithCopyWarning: \n",
      "A value is trying to be set on a copy of a slice from a DataFrame.\n",
      "Try using .loc[row_indexer,col_indexer] = value instead\n",
      "\n",
      "See the caveats in the documentation: https://pandas.pydata.org/pandas-docs/stable/user_guide/indexing.html#returning-a-view-versus-a-copy\n",
      "  df_no_dupes[\"Plot_stripped\"] = df_no_dupes[\"Plot\"].astype(str).str.strip()\n"
     ]
    }
   ],
   "source": [
    "# Whitespace issues\n",
    "df_no_dupes[\"Title_stripped\"] = df_no_dupes[\"Title\"].astype(str).str.strip()\n",
    "df_no_dupes[\"Plot_stripped\"] = df_no_dupes[\"Plot\"].astype(str).str.strip()\n",
    "whitespace_issues = (\n",
    "    (df_no_dupes[\"Title\"] != df_no_dupes[\"Title_stripped\"]).sum()\n",
    "    + (df_no_dupes[\"Plot\"] != df_no_dupes[\"Plot_stripped\"]).sum()\n",
    ")\n",
    "print(f\"Rows with leading/trailing whitespace: {whitespace_issues}\")"
   ]
  },
  {
   "cell_type": "code",
   "execution_count": 9,
   "metadata": {},
   "outputs": [],
   "source": [
    "# Keep only the required columns\n",
    "df = df_no_dupes[[\"Title\", \"Plot\"]].dropna().reset_index(drop=True)"
   ]
  },
  {
   "cell_type": "code",
   "execution_count": 10,
   "metadata": {},
   "outputs": [],
   "source": [
    "for col in df.select_dtypes(include=\"object\").columns:\n",
    "    df[col] = (\n",
    "        df[col]\n",
    "        .astype(str)\n",
    "        .str.replace(r\"\\s+\", \" \", regex=True)  \n",
    "        .str.strip()                           \n",
    "    )"
   ]
  },
  {
   "cell_type": "code",
   "execution_count": 11,
   "metadata": {},
   "outputs": [],
   "source": [
    "# random sample \n",
    "subset = df.sample(500, random_state=42) "
   ]
  },
  {
   "cell_type": "code",
   "execution_count": 12,
   "metadata": {},
   "outputs": [
    {
     "name": "stdout",
     "output_type": "stream",
     "text": [
      "Duplicate titles: 0\n"
     ]
    }
   ],
   "source": [
    "# Duplicates\n",
    "duplicate_titles = subset.duplicated(subset=\"Title\").sum()\n",
    "print(f\"Duplicate titles: {duplicate_titles}\")"
   ]
  },
  {
   "cell_type": "code",
   "execution_count": 13,
   "metadata": {},
   "outputs": [],
   "source": [
    "# Save to data folder \n",
    "subset.to_csv(\"data/movies_data_subset_clean.csv\", index=False) "
   ]
  }
 ],
 "metadata": {
  "kernelspec": {
   "display_name": "eutech_env",
   "language": "python",
   "name": "python3"
  },
  "language_info": {
   "codemirror_mode": {
    "name": "ipython",
    "version": 3
   },
   "file_extension": ".py",
   "mimetype": "text/x-python",
   "name": "python",
   "nbconvert_exporter": "python",
   "pygments_lexer": "ipython3",
   "version": "3.11.13"
  }
 },
 "nbformat": 4,
 "nbformat_minor": 2
}
